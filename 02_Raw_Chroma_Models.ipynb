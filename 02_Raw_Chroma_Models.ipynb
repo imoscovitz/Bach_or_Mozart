{
 "cells": [
  {
   "cell_type": "code",
   "execution_count": 1,
   "metadata": {},
   "outputs": [],
   "source": [
    "\"\"\"\n",
    "Models Group 1:\n",
    "Based on examples represented as flattened arrays of 30-second chromograms.\n",
    "\"\"\";"
   ]
  },
  {
   "cell_type": "code",
   "execution_count": 2,
   "metadata": {},
   "outputs": [],
   "source": [
    "import MTheory as mt\n",
    "import imlearn"
   ]
  },
  {
   "cell_type": "code",
   "execution_count": 3,
   "metadata": {},
   "outputs": [],
   "source": [
    "import pandas as pd\n",
    "import numpy as np\n",
    "\n",
    "from sklearn.linear_model import LogisticRegression\n",
    "from sklearn import svm, decomposition\n",
    "from sklearn.metrics import accuracy_score\n",
    "from sklearn.svm import LinearSVC\n",
    "\n",
    "from sklearn.pipeline import Pipeline, make_pipeline\n",
    "from sklearn.preprocessing import StandardScaler"
   ]
  },
  {
   "cell_type": "code",
   "execution_count": 4,
   "metadata": {},
   "outputs": [],
   "source": [
    "%matplotlib inline\n",
    "import matplotlib.pyplot as plt\n",
    "import matplotlib.style as ms\n",
    "ms.use('seaborn-muted')\n",
    "import seaborn as sns"
   ]
  },
  {
   "cell_type": "code",
   "execution_count": 5,
   "metadata": {},
   "outputs": [],
   "source": [
    "import warnings\n",
    "warnings.filterwarnings(\"ignore\")"
   ]
  },
  {
   "cell_type": "code",
   "execution_count": 6,
   "metadata": {},
   "outputs": [],
   "source": [
    "data_path = '/Users/ilanmoscovitz/github/sf18_ds11/projects/03-mcnulty/Raw_Arrays.pkl'\n",
    "df = pd.read_pickle(data_path)\n",
    "df.columns = [str(col).strip() for col in df.columns.tolist()]"
   ]
  },
  {
   "cell_type": "code",
   "execution_count": 7,
   "metadata": {},
   "outputs": [
    {
     "data": {
      "text/html": [
       "<div>\n",
       "<style scoped>\n",
       "    .dataframe tbody tr th:only-of-type {\n",
       "        vertical-align: middle;\n",
       "    }\n",
       "\n",
       "    .dataframe tbody tr th {\n",
       "        vertical-align: top;\n",
       "    }\n",
       "\n",
       "    .dataframe thead th {\n",
       "        text-align: right;\n",
       "    }\n",
       "</style>\n",
       "<table border=\"1\" class=\"dataframe\">\n",
       "  <thead>\n",
       "    <tr style=\"text-align: right;\">\n",
       "      <th></th>\n",
       "      <th>0</th>\n",
       "      <th>1</th>\n",
       "      <th>2</th>\n",
       "      <th>3</th>\n",
       "      <th>4</th>\n",
       "      <th>5</th>\n",
       "      <th>6</th>\n",
       "      <th>7</th>\n",
       "      <th>8</th>\n",
       "      <th>9</th>\n",
       "      <th>...</th>\n",
       "      <th>15485</th>\n",
       "      <th>15486</th>\n",
       "      <th>15487</th>\n",
       "      <th>15488</th>\n",
       "      <th>15489</th>\n",
       "      <th>15490</th>\n",
       "      <th>15491</th>\n",
       "      <th>Song</th>\n",
       "      <th>Composer</th>\n",
       "      <th>Collection</th>\n",
       "    </tr>\n",
       "  </thead>\n",
       "  <tbody>\n",
       "    <tr>\n",
       "      <th>0</th>\n",
       "      <td>0.578548</td>\n",
       "      <td>0.833667</td>\n",
       "      <td>0.641761</td>\n",
       "      <td>0.406082</td>\n",
       "      <td>0.466758</td>\n",
       "      <td>0.315837</td>\n",
       "      <td>0.178356</td>\n",
       "      <td>0.574957</td>\n",
       "      <td>1.000000</td>\n",
       "      <td>0.645824</td>\n",
       "      <td>...</td>\n",
       "      <td>0.109619</td>\n",
       "      <td>0.105598</td>\n",
       "      <td>0.057196</td>\n",
       "      <td>0.137472</td>\n",
       "      <td>0.224815</td>\n",
       "      <td>0.132209</td>\n",
       "      <td>0.043358</td>\n",
       "      <td>can1</td>\n",
       "      <td>Bach</td>\n",
       "      <td>Art_of_Fugue</td>\n",
       "    </tr>\n",
       "    <tr>\n",
       "      <th>1</th>\n",
       "      <td>0.037789</td>\n",
       "      <td>0.516816</td>\n",
       "      <td>1.000000</td>\n",
       "      <td>0.555567</td>\n",
       "      <td>0.111366</td>\n",
       "      <td>0.089750</td>\n",
       "      <td>0.105569</td>\n",
       "      <td>0.052371</td>\n",
       "      <td>0.114781</td>\n",
       "      <td>0.203799</td>\n",
       "      <td>...</td>\n",
       "      <td>0.071020</td>\n",
       "      <td>0.107716</td>\n",
       "      <td>0.063728</td>\n",
       "      <td>0.069789</td>\n",
       "      <td>0.122905</td>\n",
       "      <td>0.569828</td>\n",
       "      <td>1.000000</td>\n",
       "      <td>can1</td>\n",
       "      <td>Bach</td>\n",
       "      <td>Art_of_Fugue</td>\n",
       "    </tr>\n",
       "    <tr>\n",
       "      <th>2</th>\n",
       "      <td>0.530424</td>\n",
       "      <td>0.247869</td>\n",
       "      <td>0.464648</td>\n",
       "      <td>0.249256</td>\n",
       "      <td>0.060218</td>\n",
       "      <td>0.047878</td>\n",
       "      <td>0.083007</td>\n",
       "      <td>0.053147</td>\n",
       "      <td>0.069365</td>\n",
       "      <td>0.120075</td>\n",
       "      <td>...</td>\n",
       "      <td>0.559203</td>\n",
       "      <td>1.000000</td>\n",
       "      <td>0.534866</td>\n",
       "      <td>0.494115</td>\n",
       "      <td>0.791598</td>\n",
       "      <td>0.339638</td>\n",
       "      <td>0.114940</td>\n",
       "      <td>can1</td>\n",
       "      <td>Bach</td>\n",
       "      <td>Art_of_Fugue</td>\n",
       "    </tr>\n",
       "    <tr>\n",
       "      <th>3</th>\n",
       "      <td>0.209824</td>\n",
       "      <td>0.370963</td>\n",
       "      <td>0.199028</td>\n",
       "      <td>0.092517</td>\n",
       "      <td>0.113985</td>\n",
       "      <td>0.563249</td>\n",
       "      <td>1.000000</td>\n",
       "      <td>0.509652</td>\n",
       "      <td>0.430535</td>\n",
       "      <td>0.890912</td>\n",
       "      <td>...</td>\n",
       "      <td>1.000000</td>\n",
       "      <td>0.519597</td>\n",
       "      <td>0.085054</td>\n",
       "      <td>0.059381</td>\n",
       "      <td>0.057043</td>\n",
       "      <td>0.024744</td>\n",
       "      <td>0.320728</td>\n",
       "      <td>can1</td>\n",
       "      <td>Bach</td>\n",
       "      <td>Art_of_Fugue</td>\n",
       "    </tr>\n",
       "    <tr>\n",
       "      <th>4</th>\n",
       "      <td>0.496677</td>\n",
       "      <td>0.250995</td>\n",
       "      <td>0.077560</td>\n",
       "      <td>0.055055</td>\n",
       "      <td>0.534108</td>\n",
       "      <td>1.000000</td>\n",
       "      <td>0.533525</td>\n",
       "      <td>0.091300</td>\n",
       "      <td>0.056270</td>\n",
       "      <td>0.049875</td>\n",
       "      <td>...</td>\n",
       "      <td>0.191431</td>\n",
       "      <td>0.062972</td>\n",
       "      <td>0.034260</td>\n",
       "      <td>0.524069</td>\n",
       "      <td>1.000000</td>\n",
       "      <td>0.516596</td>\n",
       "      <td>0.039233</td>\n",
       "      <td>can1</td>\n",
       "      <td>Bach</td>\n",
       "      <td>Art_of_Fugue</td>\n",
       "    </tr>\n",
       "  </tbody>\n",
       "</table>\n",
       "<p>5 rows × 15495 columns</p>\n",
       "</div>"
      ],
      "text/plain": [
       "          0         1         2         3         4         5         6  \\\n",
       "0  0.578548  0.833667  0.641761  0.406082  0.466758  0.315837  0.178356   \n",
       "1  0.037789  0.516816  1.000000  0.555567  0.111366  0.089750  0.105569   \n",
       "2  0.530424  0.247869  0.464648  0.249256  0.060218  0.047878  0.083007   \n",
       "3  0.209824  0.370963  0.199028  0.092517  0.113985  0.563249  1.000000   \n",
       "4  0.496677  0.250995  0.077560  0.055055  0.534108  1.000000  0.533525   \n",
       "\n",
       "          7         8         9      ...          15485     15486     15487  \\\n",
       "0  0.574957  1.000000  0.645824      ...       0.109619  0.105598  0.057196   \n",
       "1  0.052371  0.114781  0.203799      ...       0.071020  0.107716  0.063728   \n",
       "2  0.053147  0.069365  0.120075      ...       0.559203  1.000000  0.534866   \n",
       "3  0.509652  0.430535  0.890912      ...       1.000000  0.519597  0.085054   \n",
       "4  0.091300  0.056270  0.049875      ...       0.191431  0.062972  0.034260   \n",
       "\n",
       "      15488     15489     15490     15491  Song  Composer    Collection  \n",
       "0  0.137472  0.224815  0.132209  0.043358  can1      Bach  Art_of_Fugue  \n",
       "1  0.069789  0.122905  0.569828  1.000000  can1      Bach  Art_of_Fugue  \n",
       "2  0.494115  0.791598  0.339638  0.114940  can1      Bach  Art_of_Fugue  \n",
       "3  0.059381  0.057043  0.024744  0.320728  can1      Bach  Art_of_Fugue  \n",
       "4  0.524069  1.000000  0.516596  0.039233  can1      Bach  Art_of_Fugue  \n",
       "\n",
       "[5 rows x 15495 columns]"
      ]
     },
     "execution_count": 7,
     "metadata": {},
     "output_type": "execute_result"
    }
   ],
   "source": [
    "df.head()"
   ]
  },
  {
   "cell_type": "code",
   "execution_count": 8,
   "metadata": {},
   "outputs": [],
   "source": [
    "# Unfortunately, we need to split along songs. We are using 30-second snippets,\n",
    "# and it would be cheating to include parts of a single song in both the train and test sets.\n",
    "# Code for custom split, customCV, and customGridCV is located in imlearn.py.\n",
    "\n",
    "train, test = imlearn.custom_train_test_split(df, 'Song', test_size=0.3, random_seed=50)"
   ]
  },
  {
   "cell_type": "code",
   "execution_count": 9,
   "metadata": {},
   "outputs": [
    {
     "data": {
      "text/plain": [
       "0.723939611790079"
      ]
     },
     "execution_count": 9,
     "metadata": {},
     "output_type": "execute_result"
    }
   ],
   "source": [
    "# Quick check to make sure the split reasonably approximates test_size (see comment in .custom_train_test_split.) \n",
    "len(train)/len(df)"
   ]
  },
  {
   "cell_type": "code",
   "execution_count": 10,
   "metadata": {},
   "outputs": [
    {
     "data": {
      "text/plain": [
       "0.5034756703078451"
      ]
     },
     "execution_count": 10,
     "metadata": {},
     "output_type": "execute_result"
    }
   ],
   "source": [
    "# How balanced are the classes?\n",
    "len(train[train['Composer']=='Bach']) / len(train)"
   ]
  },
  {
   "cell_type": "code",
   "execution_count": 11,
   "metadata": {},
   "outputs": [
    {
     "data": {
      "text/plain": [
       "0.4791666666666667"
      ]
     },
     "execution_count": 11,
     "metadata": {},
     "output_type": "execute_result"
    }
   ],
   "source": [
    "# How balanced are the classes?\n",
    "len(test[test['Composer']=='Bach']) / len(test)"
   ]
  },
  {
   "cell_type": "code",
   "execution_count": 12,
   "metadata": {},
   "outputs": [],
   "source": [
    "# Hide cheating attributes during training\n",
    "omit_mask = ['Collection','Song','Snippet']"
   ]
  },
  {
   "cell_type": "code",
   "execution_count": 13,
   "metadata": {},
   "outputs": [],
   "source": [
    "# Create pipeline for logistic regression\n",
    "\n",
    "log_pipeline = Pipeline([\n",
    "    ('scaler',StandardScaler()),\n",
    "    ('logistic',LogisticRegression())\n",
    "])\n",
    "    \n",
    "parameters = [\n",
    "    { \n",
    "          'logistic__penalty': [\"l1\",\"l2\"],\n",
    "          'logistic__C': np.logspace(-4, 4, 50)\n",
    "    },\n",
    "]"
   ]
  },
  {
   "cell_type": "code",
   "execution_count": 14,
   "metadata": {},
   "outputs": [
    {
     "ename": "KeyboardInterrupt",
     "evalue": "",
     "output_type": "error",
     "traceback": [
      "\u001b[0;31m---------------------------------------------------------------------------\u001b[0m",
      "\u001b[0;31mKeyboardInterrupt\u001b[0m                         Traceback (most recent call last)",
      "\u001b[0;32m<ipython-input-14-4ae84ce91254>\u001b[0m in \u001b[0;36m<module>\u001b[0;34m()\u001b[0m\n\u001b[1;32m      4\u001b[0m \u001b[0;34m\u001b[0m\u001b[0m\n\u001b[1;32m      5\u001b[0m log_grid.fit_score(train, y_feat='Composer',\n\u001b[0;32m----> 6\u001b[0;31m                    omit_mask=omit_mask, display=False, random_seed=42)\n\u001b[0m",
      "\u001b[0;32m~/github/sf18_ds11/projects/03-mcnulty/imlearn.py\u001b[0m in \u001b[0;36mfit_score\u001b[0;34m(self, train, y_feat, cv, omit_mask, display, random_seed)\u001b[0m\n\u001b[1;32m    171\u001b[0m             custom_cv.fit_score(train, y_feat=y_feat, cv=cv,\n\u001b[1;32m    172\u001b[0m                                 omit_mask=omit_mask, display=False, random_seed=random_seed)\n\u001b[0;32m--> 173\u001b[0;31m             \u001b[0mcurrent_score\u001b[0m \u001b[0;34m=\u001b[0m \u001b[0mcustom_cv\u001b[0m\u001b[0;34m.\u001b[0m\u001b[0mscore_\u001b[0m\u001b[0;34m\u001b[0m\u001b[0m\n\u001b[0m\u001b[1;32m    174\u001b[0m \u001b[0;34m\u001b[0m\u001b[0m\n\u001b[1;32m    175\u001b[0m             \u001b[0;31m# Display results\u001b[0m\u001b[0;34m\u001b[0m\u001b[0;34m\u001b[0m\u001b[0m\n",
      "\u001b[0;32m~/github/sf18_ds11/projects/03-mcnulty/imlearn.py\u001b[0m in \u001b[0;36mfit_score\u001b[0;34m(self, train, y_feat, cv, omit_mask, display, random_seed)\u001b[0m\n\u001b[1;32m    118\u001b[0m \u001b[0;34m\u001b[0m\u001b[0m\n\u001b[1;32m    119\u001b[0m             \u001b[0;31m# Fit\u001b[0m\u001b[0;34m\u001b[0m\u001b[0;34m\u001b[0m\u001b[0m\n\u001b[0;32m--> 120\u001b[0;31m             \u001b[0mself\u001b[0m\u001b[0;34m.\u001b[0m\u001b[0mclf\u001b[0m\u001b[0;34m.\u001b[0m\u001b[0mfit\u001b[0m\u001b[0;34m(\u001b[0m\u001b[0mX_train\u001b[0m\u001b[0;34m,\u001b[0m \u001b[0my_train\u001b[0m\u001b[0;34m)\u001b[0m\u001b[0;34m\u001b[0m\u001b[0m\n\u001b[0m\u001b[1;32m    121\u001b[0m \u001b[0;34m\u001b[0m\u001b[0m\n\u001b[1;32m    122\u001b[0m             \u001b[0;31m# Predict\u001b[0m\u001b[0;34m\u001b[0m\u001b[0;34m\u001b[0m\u001b[0m\n",
      "\u001b[0;32m~/anaconda3/lib/python3.6/site-packages/sklearn/pipeline.py\u001b[0m in \u001b[0;36mfit\u001b[0;34m(self, X, y, **fit_params)\u001b[0m\n\u001b[1;32m    248\u001b[0m         \u001b[0mXt\u001b[0m\u001b[0;34m,\u001b[0m \u001b[0mfit_params\u001b[0m \u001b[0;34m=\u001b[0m \u001b[0mself\u001b[0m\u001b[0;34m.\u001b[0m\u001b[0m_fit\u001b[0m\u001b[0;34m(\u001b[0m\u001b[0mX\u001b[0m\u001b[0;34m,\u001b[0m \u001b[0my\u001b[0m\u001b[0;34m,\u001b[0m \u001b[0;34m**\u001b[0m\u001b[0mfit_params\u001b[0m\u001b[0;34m)\u001b[0m\u001b[0;34m\u001b[0m\u001b[0m\n\u001b[1;32m    249\u001b[0m         \u001b[0;32mif\u001b[0m \u001b[0mself\u001b[0m\u001b[0;34m.\u001b[0m\u001b[0m_final_estimator\u001b[0m \u001b[0;32mis\u001b[0m \u001b[0;32mnot\u001b[0m \u001b[0;32mNone\u001b[0m\u001b[0;34m:\u001b[0m\u001b[0;34m\u001b[0m\u001b[0m\n\u001b[0;32m--> 250\u001b[0;31m             \u001b[0mself\u001b[0m\u001b[0;34m.\u001b[0m\u001b[0m_final_estimator\u001b[0m\u001b[0;34m.\u001b[0m\u001b[0mfit\u001b[0m\u001b[0;34m(\u001b[0m\u001b[0mXt\u001b[0m\u001b[0;34m,\u001b[0m \u001b[0my\u001b[0m\u001b[0;34m,\u001b[0m \u001b[0;34m**\u001b[0m\u001b[0mfit_params\u001b[0m\u001b[0;34m)\u001b[0m\u001b[0;34m\u001b[0m\u001b[0m\n\u001b[0m\u001b[1;32m    251\u001b[0m         \u001b[0;32mreturn\u001b[0m \u001b[0mself\u001b[0m\u001b[0;34m\u001b[0m\u001b[0m\n\u001b[1;32m    252\u001b[0m \u001b[0;34m\u001b[0m\u001b[0m\n",
      "\u001b[0;32m~/anaconda3/lib/python3.6/site-packages/sklearn/linear_model/logistic.py\u001b[0m in \u001b[0;36mfit\u001b[0;34m(self, X, y, sample_weight)\u001b[0m\n\u001b[1;32m   1231\u001b[0m                 \u001b[0mself\u001b[0m\u001b[0;34m.\u001b[0m\u001b[0mclass_weight\u001b[0m\u001b[0;34m,\u001b[0m \u001b[0mself\u001b[0m\u001b[0;34m.\u001b[0m\u001b[0mpenalty\u001b[0m\u001b[0;34m,\u001b[0m \u001b[0mself\u001b[0m\u001b[0;34m.\u001b[0m\u001b[0mdual\u001b[0m\u001b[0;34m,\u001b[0m \u001b[0mself\u001b[0m\u001b[0;34m.\u001b[0m\u001b[0mverbose\u001b[0m\u001b[0;34m,\u001b[0m\u001b[0;34m\u001b[0m\u001b[0m\n\u001b[1;32m   1232\u001b[0m                 \u001b[0mself\u001b[0m\u001b[0;34m.\u001b[0m\u001b[0mmax_iter\u001b[0m\u001b[0;34m,\u001b[0m \u001b[0mself\u001b[0m\u001b[0;34m.\u001b[0m\u001b[0mtol\u001b[0m\u001b[0;34m,\u001b[0m \u001b[0mself\u001b[0m\u001b[0;34m.\u001b[0m\u001b[0mrandom_state\u001b[0m\u001b[0;34m,\u001b[0m\u001b[0;34m\u001b[0m\u001b[0m\n\u001b[0;32m-> 1233\u001b[0;31m                 sample_weight=sample_weight)\n\u001b[0m\u001b[1;32m   1234\u001b[0m             \u001b[0mself\u001b[0m\u001b[0;34m.\u001b[0m\u001b[0mn_iter_\u001b[0m \u001b[0;34m=\u001b[0m \u001b[0mnp\u001b[0m\u001b[0;34m.\u001b[0m\u001b[0marray\u001b[0m\u001b[0;34m(\u001b[0m\u001b[0;34m[\u001b[0m\u001b[0mn_iter_\u001b[0m\u001b[0;34m]\u001b[0m\u001b[0;34m)\u001b[0m\u001b[0;34m\u001b[0m\u001b[0m\n\u001b[1;32m   1235\u001b[0m             \u001b[0;32mreturn\u001b[0m \u001b[0mself\u001b[0m\u001b[0;34m\u001b[0m\u001b[0m\n",
      "\u001b[0;32m~/anaconda3/lib/python3.6/site-packages/sklearn/svm/base.py\u001b[0m in \u001b[0;36m_fit_liblinear\u001b[0;34m(X, y, C, fit_intercept, intercept_scaling, class_weight, penalty, dual, verbose, max_iter, tol, random_state, multi_class, loss, epsilon, sample_weight)\u001b[0m\n\u001b[1;32m    888\u001b[0m         \u001b[0mX\u001b[0m\u001b[0;34m,\u001b[0m \u001b[0my_ind\u001b[0m\u001b[0;34m,\u001b[0m \u001b[0msp\u001b[0m\u001b[0;34m.\u001b[0m\u001b[0misspmatrix\u001b[0m\u001b[0;34m(\u001b[0m\u001b[0mX\u001b[0m\u001b[0;34m)\u001b[0m\u001b[0;34m,\u001b[0m \u001b[0msolver_type\u001b[0m\u001b[0;34m,\u001b[0m \u001b[0mtol\u001b[0m\u001b[0;34m,\u001b[0m \u001b[0mbias\u001b[0m\u001b[0;34m,\u001b[0m \u001b[0mC\u001b[0m\u001b[0;34m,\u001b[0m\u001b[0;34m\u001b[0m\u001b[0m\n\u001b[1;32m    889\u001b[0m         \u001b[0mclass_weight_\u001b[0m\u001b[0;34m,\u001b[0m \u001b[0mmax_iter\u001b[0m\u001b[0;34m,\u001b[0m \u001b[0mrnd\u001b[0m\u001b[0;34m.\u001b[0m\u001b[0mrandint\u001b[0m\u001b[0;34m(\u001b[0m\u001b[0mnp\u001b[0m\u001b[0;34m.\u001b[0m\u001b[0miinfo\u001b[0m\u001b[0;34m(\u001b[0m\u001b[0;34m'i'\u001b[0m\u001b[0;34m)\u001b[0m\u001b[0;34m.\u001b[0m\u001b[0mmax\u001b[0m\u001b[0;34m)\u001b[0m\u001b[0;34m,\u001b[0m\u001b[0;34m\u001b[0m\u001b[0m\n\u001b[0;32m--> 890\u001b[0;31m         epsilon, sample_weight)\n\u001b[0m\u001b[1;32m    891\u001b[0m     \u001b[0;31m# Regarding rnd.randint(..) in the above signature:\u001b[0m\u001b[0;34m\u001b[0m\u001b[0;34m\u001b[0m\u001b[0m\n\u001b[1;32m    892\u001b[0m     \u001b[0;31m# seed for srand in range [0..INT_MAX); due to limitations in Numpy\u001b[0m\u001b[0;34m\u001b[0m\u001b[0;34m\u001b[0m\u001b[0m\n",
      "\u001b[0;31mKeyboardInterrupt\u001b[0m: "
     ]
    }
   ],
   "source": [
    "# CustomGridCV code is in imlearn.py.\n",
    "\n",
    "log_grid = imlearn.CustomGridCV(clf=log_pipeline, params=parameters, fold_on='Song', standard_scale=False) # Scaling is already in pipeline\n",
    "\n",
    "log_grid.fit_score(train, y_feat='Composer',\n",
    "                   omit_mask=omit_mask, display=False, random_seed=42)"
   ]
  },
  {
   "cell_type": "code",
   "execution_count": null,
   "metadata": {},
   "outputs": [],
   "source": [
    "# TODO: How do we know which composer labels go where?\n",
    "# TODO: Fix numbering\n",
    "composers = ['Bach','Mozart']\n",
    "predictions, actuals = log_grid.best_predictions_actuals_\n",
    "imlearn.draw_confusion(predictions, actuals, composers)"
   ]
  },
  {
   "cell_type": "code",
   "execution_count": null,
   "metadata": {},
   "outputs": [],
   "source": [
    "imlearn.draw_confusion(predictions, actuals, ['Mozart','Bach'])\n"
   ]
  },
  {
   "cell_type": "code",
   "execution_count": null,
   "metadata": {},
   "outputs": [],
   "source": [
    "# Maybe svm can do better.\n",
    "\n",
    "# Phat dataset: we'll use a linear kernal.\n",
    "\n",
    "# It seems dual doesn't support regularization choice, and I have too many features for single, \n",
    "# so there isn't much tuning to do.\n",
    "\n",
    "svm_pipeline = Pipeline([\n",
    "    ('scaler',StandardScaler()),\n",
    "    ('svm',svm.SVC(kernel='linear',C=1))\n",
    "])\n",
    "\n",
    "#parameters = [\n",
    "#    { \n",
    "#          'svm__penalty': ['l1','l2'],\n",
    "#    },\n",
    "#]\n",
    "\n",
    "#svm_grid = imlearn.CustomGridCV(params=parameters, fold_on='Song')\n",
    "\n",
    "#svm_grid.fit_score(train, y_feat='Composer', clf=svm_pipeline, \n",
    " #                  omit_mask=omit_mask, display=True, random_seed=42)\n",
    "\n",
    "svm_custom_cv = imlearn.CustomCV(clf=svm_pipeline, fold_on='Song', scorer=accuracy_score, standard_scale=False)\n",
    "\n",
    "svm_custom_cv.fit_score(train, y_feat='Composer', cv=5,\n",
    "                        omit_mask=omit_mask, display=False, random_seed=42)"
   ]
  },
  {
   "cell_type": "code",
   "execution_count": null,
   "metadata": {},
   "outputs": [],
   "source": [
    "svm_custom_cv.score_"
   ]
  },
  {
   "cell_type": "code",
   "execution_count": null,
   "metadata": {},
   "outputs": [],
   "source": [
    "# Again, not very discriminating\n",
    "predictions, actuals = svm_custom_cv.predictions_actuals_\n",
    "imlearn.draw_confusion(predictions, actuals, composers)"
   ]
  },
  {
   "cell_type": "code",
   "execution_count": null,
   "metadata": {},
   "outputs": [],
   "source": [
    "# Lastly, let's try some pca decomp to help with datagirth.\n",
    "\n",
    "svm_slightly_more_elaborate_pipe = Pipeline([\n",
    "    ('scaler', StandardScaler()),\n",
    "    ('pca', decomposition.PCA(n_components=200)),\n",
    "    ('svm', svm.SVC(kernel='linear',C=1))\n",
    "])\n",
    "\n",
    "svm_slightly_more_elaborate_CV = imlearn.CustomCV(clf=svm_slightly_more_elaborate_pipe, fold_on='Song', scorer=accuracy_score, standard_scale=False)\n",
    "\n",
    "svm_slightly_more_elaborate_CV.fit_score(train, y_feat='Composer', cv=5,\n",
    "                                         omit_mask=omit_mask, display=False, random_seed=42)"
   ]
  },
  {
   "cell_type": "code",
   "execution_count": null,
   "metadata": {},
   "outputs": [],
   "source": [
    "predictions, actuals = svm_slightly_more_elaborate_CV.predictions_actuals_\n",
    "imlearn.draw_confusion(predictions, actuals, composers)"
   ]
  },
  {
   "cell_type": "code",
   "execution_count": null,
   "metadata": {},
   "outputs": [],
   "source": [
    "svm_slightly_more_elaborate_CV.score_"
   ]
  }
 ],
 "metadata": {
  "kernelspec": {
   "display_name": "Python 3",
   "language": "python",
   "name": "python3"
  },
  "language_info": {
   "codemirror_mode": {
    "name": "ipython",
    "version": 3
   },
   "file_extension": ".py",
   "mimetype": "text/x-python",
   "name": "python",
   "nbconvert_exporter": "python",
   "pygments_lexer": "ipython3",
   "version": "3.6.4"
  }
 },
 "nbformat": 4,
 "nbformat_minor": 2
}
