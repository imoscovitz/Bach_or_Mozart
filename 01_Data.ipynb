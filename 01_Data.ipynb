{
 "cells": [
  {
   "cell_type": "markdown",
   "metadata": {},
   "source": [
    "### \"\"\"\n",
    "Produce a DataFrame of dumb flattened chromograms.\n",
    "\n",
    "Processes a universe of midi-generated mp3 files\n",
    "into flattened arrays representing pitches over 30-second timeframes.\n",
    "\n",
    "While doing so, extracts and pickles 6 Librosa arrays per example that represent other useful information.\n",
    "\"\"\"\n",
    "\n",
    "from __future__ import print_function\n",
    "import pandas as pd\n",
    "import numpy as np\n",
    "import os\n",
    "\n",
    "import librosa\n",
    "import librosa.display\n",
    "import MTheory as mt"
   ]
  },
  {
   "cell_type": "code",
   "execution_count": 16,
   "metadata": {},
   "outputs": [],
   "source": [
    "main_path = '/Users/ilanmoscovitz/github/sf18_ds11/projects/03-mcnulty/Music/'\n",
    "\n",
    "music_universe = {'Bach': ['Art_of_Fugue','Goldberg_Variations','Partitas','Sinfonia','Two_Part_Inventions','WTC1','WTC2','Other'],\n",
    "                  'Mozart': ['Sonatas','Sonatinas','Fugue','Variations','Other']}\n",
    "\n",
    "df_filename = '/Users/ilanmoscovitz/github/sf18_ds11/projects/03-mcnulty/Raw_Arrays.pkl'"
   ]
  },
  {
   "cell_type": "code",
   "execution_count": 3,
   "metadata": {},
   "outputs": [
    {
     "name": "stdout",
     "output_type": "stream",
     "text": [
      "(0, 0)\n"
     ]
    }
   ],
   "source": [
    "df = pd.DataFrame()\n",
    "print(df.shape)\n",
    "extraction_keys = ['y','sr','y_harmonic','y_percussive','chroma', 'sparse']"
   ]
  },
  {
   "cell_type": "code",
   "execution_count": 19,
   "metadata": {},
   "outputs": [],
   "source": [
    "# Adds songs to df by composer, collection, song\n",
    "# Splits each song into segments (seconds=30) and flattens each segment into an example in 1D space\n",
    "\n",
    "# You need to return and assign df because pandas has no option to use modifier df.append as a modifier\n",
    "def make_extraction(df, main_path, music_universe, extraction_to_add='chroma', seconds=30, sr=22050, hop_length=512):\n",
    "    for composer, collections in music_universe.items():\n",
    "        for collection in collections:\n",
    "            df = add_collection(df, main_path, composer, collection, extraction_to_add, seconds, sr, hop_length) \n",
    "            print('Shape:',df.shape,'\\n')\n",
    "    \n",
    "    # The indices get screwy from all the appending. Let's fix them.\n",
    "    df = df.reset_index(drop=True)\n",
    "    return df"
   ]
  },
  {
   "cell_type": "code",
   "execution_count": 25,
   "metadata": {},
   "outputs": [],
   "source": [
    "def add_collection(df, main_path, composer, collection, extraction_to_add='chroma', seconds=30, sr=22050, hop_length=512):\n",
    "    \n",
    "    # Decide what files to do what with\n",
    "    directory = main_path + composer + '/' + collection + '/'\n",
    "    print(directory)\n",
    "    songs = [song_file[:-4] for song_file in os.listdir(directory) if song_file.endswith('.mp3')]\n",
    "    to_add = [song for song in songs if len(df)>0 and song not in df['Song'].unique() and collection not in df['Collection'].unique()]\n",
    "    found = [song for song in songs if song not in to_add]\n",
    "    \n",
    "    print(composer, collection)\n",
    "    print('Already added to DF:', found)\n",
    "    print('\\nAdding:', to_add)\n",
    "    \n",
    "    # For each song not in df, add its stack of flattened numpy arrays to the dataframe\n",
    "    for song in songs:\n",
    "        song_name = song\n",
    "        audio_path = directory + song + '.mp3'\n",
    "        new_examples_np = song_to_examples(audio_path, extraction_to_add=extraction_to_add, seconds=seconds, sr=sr, hop_length=hop_length, flatten=True)\n",
    "        new_examples_df = pd.DataFrame(data=new_examples_np)\n",
    "        new_examples_df['Song'] = song_name\n",
    "        new_examples_df['Composer'] = composer\n",
    "        new_examples_df['Collection'] = collection\n",
    "        df = df.append(new_examples_df)\n",
    "        #print(df.shape)\n",
    "    # Check to make sure all parsed audio has been pickled\n",
    "    for song in found:\n",
    "        mt.load_or_parse(directory+song, extraction_keys)\n",
    "        \n",
    "    print('Done :)')\n",
    "    return df"
   ]
  },
  {
   "cell_type": "code",
   "execution_count": 26,
   "metadata": {},
   "outputs": [],
   "source": [
    "def song_to_examples(audio_path, extraction_to_add='chroma', seconds=30, sr=22050, hop_length=512, flatten=False):\n",
    "    extractions = mt.load_or_parse(audio_path, extraction_keys)\n",
    "    array = extractions[extraction_to_add]\n",
    "    song_segments = split_array(array, seconds=seconds, sr=sr, hop_length=hop_length)\n",
    "    if not flatten:\n",
    "        examples = song_segments\n",
    "    else:\n",
    "        examples = flatten_arrays(song_segments)\n",
    "    return examples"
   ]
  },
  {
   "cell_type": "code",
   "execution_count": 7,
   "metadata": {},
   "outputs": [],
   "source": [
    "def split_array(array, seconds=30, sr=22050, hop_length=512):\n",
    "   \n",
    "    # Number of frames per segment\n",
    "    frames_per_seg = librosa.core.time_to_frames(seconds, sr=sr, hop_length=hop_length, n_fft=None)\n",
    "    \n",
    "    # Number of splits\n",
    "    n_segs = array.shape[1] // frames_per_seg\n",
    "    \n",
    "    # Make resulting list of array segments  \n",
    "    return [array[:,(segment_i*frames_per_seg):((segment_i+1)*frames_per_seg)] for segment_i in range(n_segs)]"
   ]
  },
  {
   "cell_type": "code",
   "execution_count": 8,
   "metadata": {},
   "outputs": [],
   "source": [
    "def flatten_arrays(segments):\n",
    "    return np.stack([segment.flatten('F') for segment in segments])"
   ]
  },
  {
   "cell_type": "code",
   "execution_count": 9,
   "metadata": {
    "scrolled": true
   },
   "outputs": [
    {
     "name": "stdout",
     "output_type": "stream",
     "text": [
      "/Users/ilanmoscovitz/github/sf18_ds11/projects/03-mcnulty/Music/Bach/Art_of_Fugue/\n",
      "Bach Art_of_Fugue\n",
      "Already added to DF: ['can1', 'can2', 'can3', 'can4', 'cnt1', 'cnt2', 'cnt3', 'dou1', 'dou2', 'inver1', 'inver2', 'mir1', 'mir2', 'reg1', 'reg2', 'tri1', 'tri2', 'unfin']\n",
      "\n",
      "Adding: []\n",
      "Done :)\n",
      "Shape: (156, 15495) \n",
      "\n",
      "/Users/ilanmoscovitz/github/sf18_ds11/projects/03-mcnulty/Music/Bach/Goldberg_Variations/\n",
      "Bach Goldberg_Variations\n",
      "Already added to DF: []\n",
      "\n",
      "Adding: ['aria', 'var1', 'var10', 'var11', 'var12c4', 'var13', 'var14', 'var15c5', 'var16', 'var17', 'var18c6', 'var19', 'var2', 'var20', 'var21c7', 'var22', 'var23', 'var24c8', 'var25', 'var26', 'var27c9', 'var28', 'var29', 'var30', 'var3c1', 'var4', 'var5', 'var6c2', 'var7', 'var8', 'var9c3']\n",
      "Done :)\n",
      "Shape: (268, 15495) \n",
      "\n",
      "/Users/ilanmoscovitz/github/sf18_ds11/projects/03-mcnulty/Music/Bach/Partitas/\n",
      "Bach Partitas\n",
      "Already added to DF: []\n",
      "\n",
      "Adding: ['all1', 'all2', 'cap2', 'cou1', 'cou2', 'gig1', 'men1', 'pre1', 'ron2', 'sar1', 'sar2', 'sin2']\n",
      "Done :)\n",
      "Shape: (342, 15495) \n",
      "\n",
      "/Users/ilanmoscovitz/github/sf18_ds11/projects/03-mcnulty/Music/Bach/Sinfonia/\n",
      "Bach Sinfonia\n",
      "Already added to DF: []\n",
      "\n",
      "Adding: ['sinfon1', 'sinfon10', 'sinfon11', 'sinfon12', 'sinfon13', 'sinfon14', 'sinfon15', 'sinfon2', 'sinfon3', 'sinfon4', 'sinfon5', 'sinfon6', 'sinfon7', 'sinfon8', 'sinfon9']\n",
      "Failed to locate extracted data for sinfon1.mp3 -- extracting, pickling, and returning.\n",
      "Failed to locate extracted data for sinfon10.mp3 -- extracting, pickling, and returning.\n",
      "Failed to locate extracted data for sinfon11.mp3 -- extracting, pickling, and returning.\n",
      "Failed to locate extracted data for sinfon12.mp3 -- extracting, pickling, and returning.\n",
      "Failed to locate extracted data for sinfon13.mp3 -- extracting, pickling, and returning.\n",
      "Failed to locate extracted data for sinfon14.mp3 -- extracting, pickling, and returning.\n",
      "Failed to locate extracted data for sinfon15.mp3 -- extracting, pickling, and returning.\n",
      "Failed to locate extracted data for sinfon2.mp3 -- extracting, pickling, and returning.\n",
      "Failed to locate extracted data for sinfon3.mp3 -- extracting, pickling, and returning.\n",
      "Failed to locate extracted data for sinfon4.mp3 -- extracting, pickling, and returning.\n",
      "Failed to locate extracted data for sinfon5.mp3 -- extracting, pickling, and returning.\n",
      "Failed to locate extracted data for sinfon6.mp3 -- extracting, pickling, and returning.\n",
      "Failed to locate extracted data for sinfon7.mp3 -- extracting, pickling, and returning.\n",
      "Failed to locate extracted data for sinfon8.mp3 -- extracting, pickling, and returning.\n",
      "Failed to locate extracted data for sinfon9.mp3 -- extracting, pickling, and returning.\n",
      "Done :)\n",
      "Shape: (375, 15495) \n",
      "\n",
      "/Users/ilanmoscovitz/github/sf18_ds11/projects/03-mcnulty/Music/Bach/Two_Part_Inventions/\n",
      "Bach Two_Part_Inventions\n",
      "Already added to DF: []\n",
      "\n",
      "Adding: ['invent1', 'invent10', 'invent11', 'invent12', 'invent13', 'invent14', 'invent15', 'invent2', 'invent3', 'invent4', 'invent5', 'invent6', 'invent7', 'invent8', 'invent9']\n",
      "Done :)\n",
      "Shape: (404, 15495) \n",
      "\n",
      "/Users/ilanmoscovitz/github/sf18_ds11/projects/03-mcnulty/Music/Bach/WTC1/\n",
      "Bach WTC1\n",
      "Already added to DF: []\n",
      "\n",
      "Adding: ['Fugue1', 'Fugue10', 'Fugue12', 'Fugue14', 'Fugue16', 'Fugue17', 'Fugue18', 'Fugue2', 'Fugue20', 'Fugue21', 'Fugue22', 'Fugue23', 'Fugue24', 'Fugue3', 'Fugue4', 'Fugue5', 'Fugue6', 'Fugue7', 'Fugue8', 'Fugue9', 'Prelude1', 'Prelude10', 'Prelude11', 'Prelude12', 'Prelude13', 'Prelude14', 'Prelude15', 'Prelude16', 'Prelude17', 'Prelude18', 'Prelude19', 'Prelude2', 'Prelude20', 'Prelude21', 'Prelude22', 'Prelude23', 'Prelude24', 'Prelude3', 'Prelude4', 'Prelude5', 'Prelude6', 'Prelude7', 'Prelude8', 'Prelude9']\n",
      "Done :)\n",
      "Shape: (572, 15495) \n",
      "\n",
      "/Users/ilanmoscovitz/github/sf18_ds11/projects/03-mcnulty/Music/Bach/WTC2/\n",
      "Bach WTC2\n",
      "Already added to DF: ['Fugue1', 'Fugue10', 'Fugue12', 'Fugue2', 'Fugue3', 'Fugue4', 'Fugue5', 'Fugue6', 'Fugue7', 'Fugue8', 'Fugue9', 'Prelude1', 'Prelude10', 'Prelude11', 'Prelude12', 'Prelude2', 'Prelude3', 'Prelude4', 'Prelude5', 'Prelude6', 'Prelude7', 'Prelude8', 'Prelude9']\n",
      "\n",
      "Adding: ['Fugue11']\n",
      "Done :)\n",
      "Shape: (691, 15495) \n",
      "\n",
      "/Users/ilanmoscovitz/github/sf18_ds11/projects/03-mcnulty/Music/Mozart/Sonatas/\n",
      "Mozart Sonatas\n",
      "Already added to DF: []\n",
      "\n",
      "Adding: ['mz_279', 'mz_280_02', 'mz_280_03', 'mz_282_02', 'mz_282_03', 'mz_282_1', 'mz_309_01', 'mz_309_02', 'mz_309_03', 'mz_310_03', 'mz_311_1', 'mz_311_2', 'mz_311_3', 'mz_330_1', 'mz_330_2', 'mz_330_3', 'mz_331_1', 'mz_331_2', 'mz_331_3', 'mz_332_1', 'mz_332_2', 'mz_332_3', 'mz_333_1', 'mz_333_2', 'mz_333_3', 'mz_457_01', 'mz_457_02', 'mz_457_03', 'mz_545_3', 'mz_570_01', 'mz_570_02', 'mz_570_03', 'mz_570_1', 'mz_570_2', 'mz_570_3']\n",
      "Done :)\n",
      "Shape: (1175, 15495) \n",
      "\n",
      "/Users/ilanmoscovitz/github/sf18_ds11/projects/03-mcnulty/Music/Mozart/Sonatinas/\n",
      "Mozart Sonatinas\n",
      "Already added to DF: []\n",
      "\n",
      "Adding: ['viennese1-1', 'viennese1-2', 'viennese1-3', 'viennese1-4', 'viennese6-1', 'viennese6-2', 'viennese6-3', 'viennese6-4']\n",
      "Done :)\n",
      "Shape: (1221, 15495) \n",
      "\n",
      "/Users/ilanmoscovitz/github/sf18_ds11/projects/03-mcnulty/Music/Mozart/Fugue/\n",
      "Mozart Fugue\n",
      "Already added to DF: []\n",
      "\n",
      "Adding: ['Fugue Eb_153', 'Fugue gm_154']\n",
      "Done :)\n",
      "Shape: (1229, 15495) \n",
      "\n",
      "/Users/ilanmoscovitz/github/sf18_ds11/projects/03-mcnulty/Music/Mozart/Variations/\n",
      "Mozart Variations\n",
      "Already added to DF: []\n",
      "\n",
      "Adding: ['k265-01', 'Variations_Mio_caro_adone_180']\n",
      "Done :)\n",
      "Shape: (1242, 15495) \n",
      "\n",
      "/Users/ilanmoscovitz/github/sf18_ds11/projects/03-mcnulty/Music/Mozart/Other/\n",
      "Mozart Other\n",
      "Already added to DF: []\n",
      "\n",
      "Adding: ['Adagio bm_540', 'Fantasie_1_dm_397', 'Fantasie_2_cm_396', 'Fantasie_3_dm_397', 'Fantasie_4_cm_475', 'Funeral_March_cm_453', 'Gigue_574', 'k439b', 'Kleiner Tauermarsch_453a', 'Minuet D_355', 'Minuet F_002', 'Rondo_1_485', 'Rondo_3_am_511', 'Rondo_4_cm_475', 'Serenade Eb_375']\n",
      "Done :)\n",
      "Shape: (1391, 15495) \n",
      "\n"
     ]
    }
   ],
   "source": [
    "df = make_extraction(df, main_path, music_universe)"
   ]
  },
  {
   "cell_type": "code",
   "execution_count": 10,
   "metadata": {},
   "outputs": [
    {
     "data": {
      "text/plain": [
       "(1391, 15495)"
      ]
     },
     "execution_count": 10,
     "metadata": {},
     "output_type": "execute_result"
    }
   ],
   "source": [
    "df.shape"
   ]
  },
  {
   "cell_type": "code",
   "execution_count": 12,
   "metadata": {},
   "outputs": [
    {
     "data": {
      "text/plain": [
       "(691, 15495)"
      ]
     },
     "execution_count": 12,
     "metadata": {},
     "output_type": "execute_result"
    }
   ],
   "source": [
    "df[df['Composer']=='Bach'].shape"
   ]
  },
  {
   "cell_type": "code",
   "execution_count": 13,
   "metadata": {},
   "outputs": [
    {
     "data": {
      "text/plain": [
       "(700, 15495)"
      ]
     },
     "execution_count": 13,
     "metadata": {},
     "output_type": "execute_result"
    }
   ],
   "source": [
    "df[df['Composer']=='Mozart'].shape"
   ]
  },
  {
   "cell_type": "code",
   "execution_count": 14,
   "metadata": {},
   "outputs": [],
   "source": [
    "df.to_csv('Raw_Arrays.csv')"
   ]
  }
 ],
 "metadata": {
  "kernelspec": {
   "display_name": "Python 3",
   "language": "python",
   "name": "python3"
  },
  "language_info": {
   "codemirror_mode": {
    "name": "ipython",
    "version": 3
   },
   "file_extension": ".py",
   "mimetype": "text/x-python",
   "name": "python",
   "nbconvert_exporter": "python",
   "pygments_lexer": "ipython3",
   "version": "3.6.4"
  }
 },
 "nbformat": 4,
 "nbformat_minor": 2
}
