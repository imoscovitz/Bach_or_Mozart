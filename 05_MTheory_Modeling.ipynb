{
 "cells": [
  {
   "cell_type": "code",
   "execution_count": 1,
   "metadata": {},
   "outputs": [],
   "source": [
    "\"\"\"\n",
    "Modeling utilizing MTheory feature engineering \n",
    "\"\"\";"
   ]
  },
  {
   "cell_type": "code",
   "execution_count": 2,
   "metadata": {},
   "outputs": [],
   "source": [
    "import MTheory as mt\n",
    "import imlearn\n",
    "import IREP"
   ]
  },
  {
   "cell_type": "code",
   "execution_count": 3,
   "metadata": {},
   "outputs": [],
   "source": [
    "import numpy as np\n",
    "import pandas as pd\n",
    "import collections\n",
    "import os\n",
    "import time\n",
    "import pickle"
   ]
  },
  {
   "cell_type": "code",
   "execution_count": 4,
   "metadata": {},
   "outputs": [],
   "source": [
    "import warnings\n",
    "warnings.filterwarnings(\"ignore\")"
   ]
  },
  {
   "cell_type": "code",
   "execution_count": 63,
   "metadata": {},
   "outputs": [],
   "source": [
    "from sklearn.neighbors import KNeighborsClassifier\n",
    "from sklearn.linear_model import LogisticRegression\n",
    "from sklearn.ensemble import RandomForestClassifier\n",
    "from sklearn.tree import DecisionTreeClassifier\n",
    "from sklearn import svm, decomposition\n",
    "from sklearn.pipeline import Pipeline, make_pipeline\n",
    "from sklearn.preprocessing import StandardScaler\n",
    "from sklearn.metrics import accuracy_score, classification_report"
   ]
  },
  {
   "cell_type": "code",
   "execution_count": 6,
   "metadata": {},
   "outputs": [],
   "source": [
    "import librosa\n",
    "import librosa.display"
   ]
  },
  {
   "cell_type": "code",
   "execution_count": 7,
   "metadata": {},
   "outputs": [],
   "source": [
    "import seaborn as sns\n",
    "%matplotlib inline\n",
    "import matplotlib.pyplot as plt\n",
    "import matplotlib.style as ms\n",
    "ms.use('seaborn-muted')"
   ]
  },
  {
   "cell_type": "code",
   "execution_count": 8,
   "metadata": {},
   "outputs": [],
   "source": [
    "main_path = '/Users/ilanmoscovitz/github/sf18_ds11/projects/03-mcnulty/Music/'\n",
    "\n",
    "music_universe = {'Bach': ['Art_of_Fugue','Goldberg_Variations','Partitas','Sinfonia','Two_Part_Inventions','WTC1','WTC2','Other'],\n",
    "                  'Mozart': ['Sonatas','Sonatinas','Fugue','Variations','Other']}\n",
    "\n",
    "df_filename = '/Users/ilanmoscovitz/github/sf18_ds11/projects/03-mcnulty/Raw_Arrays.pkl'\n",
    "extraction_keys = ['y','sr','y_harmonic','y_percussive','chroma', 'sparse']\n",
    "examples_path = main_path + 'Samples/'"
   ]
  },
  {
   "cell_type": "code",
   "execution_count": 9,
   "metadata": {},
   "outputs": [],
   "source": [
    "def add_example(df, sample, sample_path):\n",
    "    \n",
    "    # Collect extractions\n",
    "    y = sample.base['y']\n",
    "    sr = sample.base['sr']\n",
    "    chroma = sample.base['chroma']\n",
    "\n",
    "    # Idee\n",
    "    idee = {'Composer':sample.idee['Composer'],\n",
    "            'Collection':sample.idee['Collection'],\n",
    "            'Song':sample.idee['Song'],\n",
    "            'Snippet':sample.idee['Snippet']}\n",
    "    \n",
    "    # Generate intervalic features\n",
    "    interval_strengths = sample.interval_summary()\n",
    "    interval_classes = sample.interval_class_summary()\n",
    "    poly_mean = sample.mean_polyphony()\n",
    "    poly_var = sample.var_polyphony()\n",
    "    \n",
    "    # Generate harmonic features\n",
    "    sample.try_build_tonality_matches()\n",
    "    mode = sample.mode\n",
    "    tonal_clarity = sample.tonal_clarity\n",
    "    tonal_distance = sample.try_build_dist_from_parent_tonality()\n",
    "    \n",
    "    # Save Sample's updated harmonic computation\n",
    "    sample.to_pickle(sample_path)\n",
    "    \n",
    "    # Add features to df\n",
    "    features = {'Poly_mean':poly_mean,\n",
    "                'Poly_var':poly_var,\n",
    "                'Mode':mode,\n",
    "                'Tonal_Clarity':tonal_clarity,\n",
    "                'Tonal_Distance':tonal_distance} \n",
    "\n",
    "    intervals = [('Interval_'+str(i)) for i in list(range(1,7))]\n",
    "    features.update(dict(zip(intervals, interval_strengths)))\n",
    "    \n",
    "    interval_class_names = ['Dissonance','Consonance','Perfect']\n",
    "    features.update(dict(zip(interval_class_names, interval_classes)))\n",
    "                \n",
    "    #parent_path = main_path+'/'+composer+'/'+collection+\n",
    "    \n",
    "    to_add = idee.copy()\n",
    "    to_add.update(features)\n",
    "    df = df.append(to_add, ignore_index=True)\n",
    "\n",
    "    return df"
   ]
  },
  {
   "cell_type": "code",
   "execution_count": 10,
   "metadata": {},
   "outputs": [],
   "source": [
    "def cols_to_front(df, front_cols):\n",
    "    cols = list(df)\n",
    "    for col in reversed(front_cols):\n",
    "        cols.insert(0, cols.pop(cols.index(col)))\n",
    "    return df[cols]"
   ]
  },
  {
   "cell_type": "code",
   "execution_count": 11,
   "metadata": {},
   "outputs": [],
   "source": [
    "def elapsed(end,start):\n",
    "    hours, rem = divmod(end-start, 3600)\n",
    "    minutes, seconds = divmod(rem, 60)\n",
    "    seconds=int(seconds)\n",
    "    \n",
    "    result = ''\n",
    "    if hours: result += str(int(hours))+':'\n",
    "    if minutes: \n",
    "        result += str(int(minutes))+':'\n",
    "    else:\n",
    "        result = ':'\n",
    "    result+=str(seconds)\n",
    "    \n",
    "    return result"
   ]
  },
  {
   "cell_type": "code",
   "execution_count": 12,
   "metadata": {},
   "outputs": [],
   "source": [
    "def make_df(examples_path):\n",
    "    df = pd.DataFrame()\n",
    "    sample_filenames = os.listdir(examples_path)\n",
    "    \n",
    "    start_time = time.time()\n",
    "    count = 1\n",
    "    for sample_filename in sample_filenames:\n",
    "        current_time = time.time()\n",
    "        if 'example' in sample_filename: \n",
    "            sample = mt.get_pickle(examples_path+sample_filename)\n",
    "            df = add_example(df, sample, examples_path+sample_filename)\n",
    "        if not count%100: \n",
    "            print('Example', count, 'of', len(sample_filenames),elapsed(current_time,start_time))\n",
    "        count+=1\n",
    "        \n",
    "    front_cols = ['Composer', 'Collection', 'Song', 'Snippet']\n",
    "    df = cols_to_front(df, front_cols)\n",
    "    \n",
    "    end_time = time.time()\n",
    "    print('\\ntotal minutes:',elapsed(end_time,start_time))\n",
    "    \n",
    "    return df"
   ]
  },
  {
   "cell_type": "code",
   "execution_count": 13,
   "metadata": {},
   "outputs": [],
   "source": [
    "#df = make_df(examples_path)"
   ]
  },
  {
   "cell_type": "code",
   "execution_count": 14,
   "metadata": {},
   "outputs": [],
   "source": [
    "#df.head()"
   ]
  },
  {
   "cell_type": "code",
   "execution_count": 15,
   "metadata": {},
   "outputs": [],
   "source": [
    "# Numericize Mode feature\n",
    "#df['Mode'] = df['Mode'].map(lambda x: 0 if x=='Major' elif x=='Minor' 1)"
   ]
  },
  {
   "cell_type": "code",
   "execution_count": 16,
   "metadata": {},
   "outputs": [],
   "source": [
    "#df.head()"
   ]
  },
  {
   "cell_type": "code",
   "execution_count": 17,
   "metadata": {},
   "outputs": [],
   "source": [
    "#df[df.isnull().any(axis=1)]"
   ]
  },
  {
   "cell_type": "code",
   "execution_count": 18,
   "metadata": {},
   "outputs": [],
   "source": [
    "#df = df.dropna()"
   ]
  },
  {
   "cell_type": "code",
   "execution_count": 19,
   "metadata": {},
   "outputs": [],
   "source": [
    "# Pickle it\n",
    "#pickle.dump(df,open('MT_Feature_df.pkl','wb'))"
   ]
  },
  {
   "cell_type": "code",
   "execution_count": 20,
   "metadata": {},
   "outputs": [],
   "source": [
    "df = pd.read_pickle('MT_Feature_df.pkl')"
   ]
  },
  {
   "cell_type": "code",
   "execution_count": 21,
   "metadata": {},
   "outputs": [],
   "source": [
    "# Custom train-test split\n",
    "train, test = imlearn.custom_train_test_split(df, 'Song', test_size=0.3, random_seed=50)"
   ]
  },
  {
   "cell_type": "code",
   "execution_count": 22,
   "metadata": {},
   "outputs": [],
   "source": [
    "# Hide cheating attributes during training\n",
    "omit_mask = ['Collection','Song','Snippet']"
   ]
  },
  {
   "cell_type": "code",
   "execution_count": 23,
   "metadata": {},
   "outputs": [
    {
     "name": "stdout",
     "output_type": "stream",
     "text": [
      "svm: best score: 0.6454787751260472\n",
      "svm: best params: {'C': 1000.0, 'gamma': 3.981071705534969, 'kernel': 'rbf'}\n",
      "\n",
      "knn: best score: 0.6233781125972597\n",
      "knn: best params: {'n_neighbors': 1}\n",
      "\n",
      "logistic: best score: 0.6585480555884795\n",
      "logistic: best params: {'C': 151991.10829529332, 'penalty': 'l1'}\n",
      "\n",
      "tree: best score: 0.6588379721829375\n",
      "tree: best params: {'max_depth': 4, 'min_samples_leaf': 10}\n",
      "\n",
      "forest: best score: 0.6539346724567714\n",
      "forest: best params: {'max_depth': 5, 'min_samples_leaf': 3, 'n_estimators': 200}\n",
      "\n"
     ]
    }
   ],
   "source": [
    "# Train using CustomGridCV\n",
    "\n",
    "models = [('svm',svm.SVC),\n",
    "          ('knn', KNeighborsClassifier), \n",
    "          ('logistic', LogisticRegression),\n",
    "          ('tree', DecisionTreeClassifier),\n",
    "          ('forest', RandomForestClassifier)\n",
    "         ]\n",
    "\n",
    "param_choices = [\n",
    "    {\n",
    "        'kernel': ['rbf'],\n",
    "        'C': np.logspace(-3,3,6),\n",
    "        'gamma': np.logspace(-3,3,6)\n",
    "    },\n",
    "    {\n",
    "        'n_neighbors': range(1, 12)\n",
    "    },\n",
    "    {\n",
    "        'C': np.logspace(-3,6, 12),\n",
    "        'penalty': ['l1', 'l2']\n",
    "    },\n",
    "    {\n",
    "        'max_depth': [1,2,3,4,5],\n",
    "        'min_samples_leaf': [3,6,10]\n",
    "    },\n",
    "    {\n",
    "        'n_estimators': [50, 100, 200],\n",
    "        'max_depth': [1,2,3,4,5],\n",
    "        'min_samples_leaf': [3,6,10]\n",
    "    }\n",
    "]\n",
    "\n",
    "grids = {}\n",
    "grid_predictions = {}\n",
    "grid_actuals = {}\n",
    "\n",
    "for model_info, params in zip(models, param_choices):\n",
    "    name, model = model_info\n",
    "    grid = imlearn.CustomGridCV(clf=model(), params=params, fold_on='Song') # CustomGridCV defaults to standard scaling\n",
    "    grid.fit_score(train, y_feat='Composer', omit_mask=omit_mask, random_seed=42, display=False)\n",
    "    s = f\"{name}: best score: {grid.best_score_}\"\n",
    "    p = f\"{name}: best params: {grid.best_parameters_}\"\n",
    "    print(s)\n",
    "    print(p)\n",
    "    print()\n",
    "    grids[name] = grid\n",
    "    grid_predictions[name],grid_actuals[name] = grid.best_predictions_actuals_"
   ]
  },
  {
   "cell_type": "code",
   "execution_count": 24,
   "metadata": {},
   "outputs": [
    {
     "name": "stdout",
     "output_type": "stream",
     "text": [
      "tree: best score: 0.6596006264139683\n",
      "tree: best params: {'max_depth': 4, 'min_samples_leaf': 16}\n",
      "\n",
      "forest: best score: 0.6995983506867153\n",
      "forest: best params: {'max_depth': 10, 'min_samples_leaf': 6, 'n_estimators': 200}\n",
      "\n"
     ]
    }
   ],
   "source": [
    "# Check off-the-grids\n",
    "\n",
    "models = [\n",
    "          ('tree', DecisionTreeClassifier),\n",
    "          ('forest', RandomForestClassifier)\n",
    "         ]\n",
    "\n",
    "param_choices = [\n",
    "    {\n",
    "        'max_depth': [1,2,3,4,5],\n",
    "        'min_samples_leaf': [3,6,10,13,16,20]\n",
    "    },\n",
    "    {\n",
    "        'n_estimators': [50, 100, 200],\n",
    "        'max_depth': [1,2,3,4,5,6,7,8,9,10],\n",
    "        'min_samples_leaf': [3,6,10]\n",
    "    }\n",
    "]\n",
    "\n",
    "grids2 = {}\n",
    "grid_predictions = {}\n",
    "grid_actuals = {}\n",
    "\n",
    "for model_info, params in zip(models, param_choices):\n",
    "    name, model = model_info\n",
    "    grid = imlearn.CustomGridCV(clf=model(), params=params, fold_on='Song') # CustomGridCV defaults to standard scaling\n",
    "    grid.fit_score(train, y_feat='Composer', omit_mask=omit_mask, random_seed=42, display=False)\n",
    "    s = f\"{name}: best score: {grid.best_score_}\"\n",
    "    p = f\"{name}: best params: {grid.best_parameters_}\"\n",
    "    print(s)\n",
    "    print(p)\n",
    "    print()\n",
    "    grids2[name] = grid\n",
    "    grid_predictions[name],grid_actuals[name] = grid.best_predictions_actuals_"
   ]
  },
  {
   "cell_type": "code",
   "execution_count": null,
   "metadata": {},
   "outputs": [],
   "source": [
    "# Best models with MTheory\n",
    "\"\"\"\n",
    "svm: best score: 0.6454787751260472\n",
    "svm: best params: {'C': 1000.0, 'gamma': 3.981071705534969, 'kernel': 'rbf'}\n",
    "\n",
    "knn: best score: 0.6233781125972597\n",
    "knn: best params: {'n_neighbors': 1}\n",
    "\n",
    "logistic: best score: 0.6584923044805571\n",
    "logistic: best params: {'C': 151991.10829529332, 'penalty': 'l1'}\n",
    "        \n",
    "tree: best score: 0.6596006264139683\n",
    "tree: best params: {'max_depth': 4, 'min_samples_leaf': 16}\n",
    "\n",
    "forest: best score: 0.7035600485439406\n",
    "forest: best params: {'max_depth': 10, 'min_samples_leaf': 6, 'n_estimators': 100}\n",
    "\"\"\";"
   ]
  },
  {
   "cell_type": "code",
   "execution_count": 23,
   "metadata": {},
   "outputs": [
    {
     "name": "stdout",
     "output_type": "stream",
     "text": [
      "svm: best score: 0.6261236901178762\n",
      "svm: best params: {'C': 100.0, 'gamma': 10.0, 'kernel': 'rbf'}\n",
      "\n",
      "knn: best score: 0.6233781125972597\n",
      "knn: best params: {'n_neighbors': 1}\n",
      "\n",
      "tree: best score: 0.6606644562012024\n",
      "tree: best params: {'max_depth': 4, 'min_samples_leaf': 16}\n",
      "\n",
      "forest: best score: 0.7038191591067667\n",
      "forest: best params: {'max_depth': 13, 'min_samples_leaf': 4, 'n_estimators': 125}\n",
      "\n"
     ]
    }
   ],
   "source": [
    "# Round 2 greater resolution\n",
    "\n",
    "models = [('svm',svm.SVC),\n",
    "          ('knn', KNeighborsClassifier), \n",
    "          ('tree', DecisionTreeClassifier),\n",
    "          ('forest', RandomForestClassifier)\n",
    "         ]\n",
    "\n",
    "param_choices = [\n",
    "    {\n",
    "        'kernel': ['rbf'],\n",
    "        'C': np.linspace(100,10000,10),\n",
    "        'gamma': np.logspace(1,10,10)\n",
    "    },\n",
    "    {\n",
    "        'n_neighbors': [1]\n",
    "    },\n",
    "    {\n",
    "        'max_depth': [1,2,3,4,5],\n",
    "        'min_samples_leaf': [13,14,15,16,17,18,19,10]\n",
    "    },\n",
    "    {\n",
    "        'n_estimators': [75, 100, 125],\n",
    "        'max_depth': [9,10,11,13,15],\n",
    "        'min_samples_leaf': [4,5,6,7,8,9,10]\n",
    "    }\n",
    "]\n",
    "\n",
    "grids3 = {}\n",
    "grid_predictions = {}\n",
    "grid_actuals = {}\n",
    "\n",
    "for model_info, params in zip(models, param_choices):\n",
    "    name, model = model_info\n",
    "    grid = imlearn.CustomGridCV(clf=model(), params=params, fold_on='Song') # CustomGridCV defaults to standard scaling\n",
    "    grid.fit_score(train, y_feat='Composer', omit_mask=omit_mask, random_seed=42, display=False)\n",
    "    s = f\"{name}: best score: {grid.best_score_}\"\n",
    "    p = f\"{name}: best params: {grid.best_parameters_}\"\n",
    "    print(s)\n",
    "    print(p)\n",
    "    print()\n",
    "    grids3[name] = grid\n",
    "    grid_predictions[name],grid_actuals[name] = grid.best_predictions_actuals_"
   ]
  },
  {
   "cell_type": "code",
   "execution_count": 29,
   "metadata": {},
   "outputs": [
    {
     "data": {
      "image/png": "[encoded data removed]",
      "text/plain": [
       "<matplotlib.figure.Figure at 0x1c1b6307b8>"
      ]
     },
     "metadata": {},
     "output_type": "display_data"
    }
   ],
   "source": [
    "imlearn.draw_learning_curve(train, y_feat='Composer', split_on='Song', clf=grids3['svm'].best_model_, cv=5, omit_mask=omit_mask, random_seed=42, title=\"svm\")"
   ]
  },
  {
   "cell_type": "code",
   "execution_count": 30,
   "metadata": {},
   "outputs": [
    {
     "data": {
      "image/png": "[encoded data removed]",
      "text/plain": [
       "<matplotlib.figure.Figure at 0x1c13301b70>"
      ]
     },
     "metadata": {},
     "output_type": "display_data"
    }
   ],
   "source": [
    "imlearn.draw_learning_curve(train, y_feat='Composer', split_on='Song', clf=grids3['knn'].best_model_, cv=5, omit_mask=omit_mask, random_seed=42, title=\"knn\")"
   ]
  },
  {
   "cell_type": "code",
   "execution_count": 31,
   "metadata": {},
   "outputs": [
    {
     "ename": "NameError",
     "evalue": "name 'grids' is not defined",
     "output_type": "error",
     "traceback": [
      "\u001b[0;31m---------------------------------------------------------------------------\u001b[0m",
      "\u001b[0;31mNameError\u001b[0m                                 Traceback (most recent call last)",
      "\u001b[0;32m<ipython-input-31-475d8e4f0be3>\u001b[0m in \u001b[0;36m<module>\u001b[0;34m()\u001b[0m\n\u001b[0;32m----> 1\u001b[0;31m \u001b[0mimlearn\u001b[0m\u001b[0;34m.\u001b[0m\u001b[0mdraw_learning_curve\u001b[0m\u001b[0;34m(\u001b[0m\u001b[0mtrain\u001b[0m\u001b[0;34m,\u001b[0m \u001b[0my_feat\u001b[0m\u001b[0;34m=\u001b[0m\u001b[0;34m'Composer'\u001b[0m\u001b[0;34m,\u001b[0m \u001b[0msplit_on\u001b[0m\u001b[0;34m=\u001b[0m\u001b[0;34m'Song'\u001b[0m\u001b[0;34m,\u001b[0m \u001b[0mclf\u001b[0m\u001b[0;34m=\u001b[0m\u001b[0mgrids\u001b[0m\u001b[0;34m[\u001b[0m\u001b[0;34m'logistic'\u001b[0m\u001b[0;34m]\u001b[0m\u001b[0;34m.\u001b[0m\u001b[0mbest_model_\u001b[0m\u001b[0;34m,\u001b[0m \u001b[0mcv\u001b[0m\u001b[0;34m=\u001b[0m\u001b[0;36m5\u001b[0m\u001b[0;34m,\u001b[0m \u001b[0momit_mask\u001b[0m\u001b[0;34m=\u001b[0m\u001b[0momit_mask\u001b[0m\u001b[0;34m,\u001b[0m \u001b[0mrandom_seed\u001b[0m\u001b[0;34m=\u001b[0m\u001b[0;36m42\u001b[0m\u001b[0;34m,\u001b[0m \u001b[0mtitle\u001b[0m\u001b[0;34m=\u001b[0m\u001b[0;34m\"logistic\"\u001b[0m\u001b[0;34m)\u001b[0m\u001b[0;34m\u001b[0m\u001b[0m\n\u001b[0m",
      "\u001b[0;31mNameError\u001b[0m: name 'grids' is not defined"
     ]
    }
   ],
   "source": [
    "imlearn.draw_learning_curve(train, y_feat='Composer', split_on='Song', clf=grids['logistic'].best_model_, cv=5, omit_mask=omit_mask, random_seed=42, title=\"logistic\")"
   ]
  },
  {
   "cell_type": "code",
   "execution_count": 32,
   "metadata": {},
   "outputs": [
    {
     "data": {
      "image/png": "[encoded data removed]",
      "text/plain": [
       "<matplotlib.figure.Figure at 0x1c132126a0>"
      ]
     },
     "metadata": {},
     "output_type": "display_data"
    }
   ],
   "source": [
    "imlearn.draw_learning_curve(train, y_feat='Composer', split_on='Song', clf=grids3['tree'].best_model_, cv=5, omit_mask=omit_mask, random_seed=42, title=\"tree\")"
   ]
  },
  {
   "cell_type": "code",
   "execution_count": 33,
   "metadata": {},
   "outputs": [
    {
     "data": {
      "image/png": "[encoded data removed]",
      "text/plain": [
       "<matplotlib.figure.Figure at 0x1c1316e198>"
      ]
     },
     "metadata": {},
     "output_type": "display_data"
    }
   ],
   "source": [
    "imlearn.draw_learning_curve(train, y_feat='Composer', split_on='Song', clf=grids3['forest'].best_model_, cv=5, omit_mask=omit_mask, random_seed=42, title=\"forest\")"
   ]
  },
  {
   "cell_type": "code",
   "execution_count": 34,
   "metadata": {},
   "outputs": [
    {
     "data": {
      "text/plain": [
       "True"
      ]
     },
     "execution_count": 34,
     "metadata": {},
     "output_type": "execute_result"
    }
   ],
   "source": [
    "# Combine the audio and MTheory datasets\n",
    "\n",
    "audio_train = pd.read_pickle('Audio_Feature_train.pkl')\n",
    "audio_test = pd.read_pickle('Audio_Feature_test.pkl')\n",
    "audio_test['Composer'].tolist()==test['Composer'].tolist()"
   ]
  },
  {
   "cell_type": "code",
   "execution_count": 35,
   "metadata": {},
   "outputs": [],
   "source": [
    "train_merged = pd.merge(audio_train, train.drop(['Composer','Collection'],axis=1), how='inner', on=['Song','Snippet'])"
   ]
  },
  {
   "cell_type": "code",
   "execution_count": 36,
   "metadata": {},
   "outputs": [
    {
     "data": {
      "text/plain": [
       "Index(['Composer', 'Collection', 'Song', 'Snippet', 'Tempo', 'SCentr_Range',\n",
       "       'SContr_mean0', 'SContr_mean1', 'SContr_mean2', 'SContr_mean3',\n",
       "       'SContr_mean4', 'SContr_mean5', 'SContr_mean6', 'SContr_var0',\n",
       "       'SContr_var1', 'SContr_var2', 'SContr_var3', 'SContr_var4',\n",
       "       'SContr_var5', 'SContr_var6', 'Consonance', 'Dissonance', 'Interval_1',\n",
       "       'Interval_2', 'Interval_3', 'Interval_4', 'Interval_5', 'Interval_6',\n",
       "       'Mode', 'Perfect', 'Poly_mean', 'Poly_var', 'Tonal_Clarity'],\n",
       "      dtype='object')"
      ]
     },
     "execution_count": 36,
     "metadata": {},
     "output_type": "execute_result"
    }
   ],
   "source": [
    "train_merged.columns"
   ]
  },
  {
   "cell_type": "code",
   "execution_count": 110,
   "metadata": {},
   "outputs": [],
   "source": [
    "pickle.dump(train_merged,open('train_merged.pkl','wb'))"
   ]
  },
  {
   "cell_type": "code",
   "execution_count": 37,
   "metadata": {},
   "outputs": [
    {
     "name": "stdout",
     "output_type": "stream",
     "text": [
      "svm: best score: 0.7477080997356842\n",
      "svm: best params: {'C': 1000.0, 'gamma': 0.001, 'kernel': 'rbf'}\n",
      "\n",
      "knn: best score: 0.698530170221185\n",
      "knn: best params: {'n_neighbors': 1}\n",
      "\n",
      "logistic: best score: 0.8283004240390393\n",
      "logistic: best params: {'C': 81.11308307896873, 'penalty': 'l1'}\n",
      "\n",
      "tree: best score: 0.825669336549242\n",
      "tree: best params: {'max_depth': 3, 'min_samples_leaf': 10}\n",
      "\n",
      "forest: best score: 0.8129502308428389\n",
      "forest: best params: {'max_depth': 5, 'min_samples_leaf': 6, 'n_estimators': 50}\n",
      "\n"
     ]
    }
   ],
   "source": [
    "# Train using CustomGridCV\n",
    "\n",
    "models = [('svm',svm.SVC),\n",
    "          ('knn', KNeighborsClassifier), \n",
    "          ('logistic', LogisticRegression),\n",
    "          ('tree', DecisionTreeClassifier),\n",
    "          ('forest', RandomForestClassifier)\n",
    "         ]\n",
    "\n",
    "param_choices = [\n",
    "    {\n",
    "        'kernel': ['rbf'],\n",
    "        'C': np.logspace(-3,3,6),\n",
    "        'gamma': np.logspace(-3,3,6)\n",
    "    },\n",
    "    {\n",
    "        'n_neighbors': range(1, 12)\n",
    "    },\n",
    "    {\n",
    "        'C': np.logspace(-3,6, 12),\n",
    "        'penalty': ['l1', 'l2']\n",
    "    },\n",
    "    {\n",
    "        'max_depth': [1,2,3,4,5],\n",
    "        'min_samples_leaf': [3,6,10]\n",
    "    },\n",
    "    {\n",
    "        'n_estimators': [50, 100, 200],\n",
    "        'max_depth': [1,2,3,4,5],\n",
    "        'min_samples_leaf': [3,6,10]\n",
    "    }\n",
    "]\n",
    "\n",
    "grids = {}\n",
    "grid_predictions = {}\n",
    "grid_actuals = {}\n",
    "\n",
    "for model_info, params in zip(models, param_choices):\n",
    "    name, model = model_info\n",
    "    grid = imlearn.CustomGridCV(clf=model(), params=params, fold_on='Song')\n",
    "    grid.fit_score(train_merged, y_feat='Composer', omit_mask=omit_mask, random_seed=42, display=False)\n",
    "    s = f\"{name}: best score: {grid.best_score_}\"\n",
    "    p = f\"{name}: best params: {grid.best_parameters_}\"\n",
    "    print(s)\n",
    "    print(p)\n",
    "    print()\n",
    "    grids[name] = grid\n",
    "    grid_predictions[name],grid_actuals[name] = grid.best_predictions_actuals_"
   ]
  },
  {
   "cell_type": "code",
   "execution_count": 38,
   "metadata": {},
   "outputs": [
    {
     "name": "stdout",
     "output_type": "stream",
     "text": [
      "svm: best score: 0.8646864177738154\n",
      "svm: best params: {'C': 100.0, 'gamma': 1e-05, 'kernel': 'rbf'}\n",
      "\n",
      "tree: best score: 0.825669336549242\n",
      "tree: best params: {'max_depth': 3, 'min_samples_leaf': 10}\n",
      "\n",
      "forest: best score: 0.8505939432314638\n",
      "forest: best params: {'max_depth': 10, 'min_samples_leaf': 6, 'n_estimators': 25}\n",
      "\n"
     ]
    }
   ],
   "source": [
    "# Train using CustomGridCV\n",
    "\n",
    "models = [('svm',svm.SVC),\n",
    "          ('tree', DecisionTreeClassifier),\n",
    "          ('forest', RandomForestClassifier)\n",
    "         ]\n",
    "\n",
    "param_choices = [\n",
    "    {\n",
    "        'kernel': ['rbf'],\n",
    "        'C': np.logspace(2,5,6),\n",
    "        'gamma': np.logspace(-5,-1,6)\n",
    "    },\n",
    "    {\n",
    "        'max_depth': [1,2,3,4,5],\n",
    "        'min_samples_leaf': [10,13,16,20]\n",
    "    },\n",
    "    {\n",
    "        'n_estimators': [25, 50, 100],\n",
    "        'max_depth': [3,4,5,7,10],\n",
    "        'min_samples_leaf': [3,6,10]\n",
    "    }\n",
    "]\n",
    "\n",
    "grids2 = {}\n",
    "grid_predictions = {}\n",
    "grid_actuals = {}\n",
    "\n",
    "for model_info, params in zip(models, param_choices):\n",
    "    name, model = model_info\n",
    "    grid = imlearn.CustomGridCV(clf=model(), params=params, fold_on='Song')\n",
    "    grid.fit_score(train_merged, y_feat='Composer', omit_mask=omit_mask, random_seed=42, display=False)\n",
    "    s = f\"{name}: best score: {grid.best_score_}\"\n",
    "    p = f\"{name}: best params: {grid.best_parameters_}\"\n",
    "    print(s)\n",
    "    print(p)\n",
    "    print()\n",
    "    grids2[name] = grid\n",
    "    grid_predictions[name],grid_actuals[name] = grid.best_predictions_actuals_"
   ]
  },
  {
   "cell_type": "code",
   "execution_count": 39,
   "metadata": {},
   "outputs": [
    {
     "name": "stdout",
     "output_type": "stream",
     "text": [
      "svm: best score: 0.8666597513799023\n",
      "svm: best params: {'C': 1000.0, 'gamma': 1e-06, 'kernel': 'rbf'}\n",
      "\n",
      "knn: best score: 0.698530170221185\n",
      "knn: best params: {'n_neighbors': 1}\n",
      "\n",
      "logistic: best score: 0.8282622929595146\n",
      "logistic: best params: {'C': 450.0, 'penalty': 'l1'}\n",
      "\n",
      "tree: best score: 0.8236285202227114\n",
      "tree: best params: {'max_depth': 3, 'min_samples_leaf': 10}\n",
      "\n",
      "forest: best score: 0.8592777310155618\n",
      "forest: best params: {'max_depth': 10, 'min_samples_leaf': 5, 'n_estimators': 25}\n",
      "\n"
     ]
    }
   ],
   "source": [
    "# Train using CustomGridCV\n",
    "\n",
    "models = [('svm',svm.SVC),\n",
    "          ('knn', KNeighborsClassifier), \n",
    "          ('logistic', LogisticRegression),\n",
    "          ('tree', DecisionTreeClassifier),\n",
    "          ('forest', RandomForestClassifier)\n",
    "         ]\n",
    "\n",
    "param_choices = [\n",
    "    {\n",
    "        'kernel': ['rbf'],\n",
    "        'C': np.linspace(10,1000,10),\n",
    "        'gamma': np.linspace(1e-06,1e-04,10)\n",
    "    },\n",
    "    {\n",
    "        'n_neighbors': [1]\n",
    "    },\n",
    "    {\n",
    "        'C': np.linspace(10,1000, 10),\n",
    "        'penalty': ['l1', 'l2']\n",
    "    },\n",
    "    {\n",
    "        'max_depth': [3],\n",
    "        'min_samples_leaf': [10]\n",
    "    },\n",
    "    {\n",
    "        'n_estimators': [15,20,25,30,35],\n",
    "        'max_depth': [8,9,10,11,12,15,20],\n",
    "        'min_samples_leaf': [4,5,6]\n",
    "    }\n",
    "]\n",
    "\n",
    "grids3 = {}\n",
    "grid_predictions = {}\n",
    "grid_actuals = {}\n",
    "\n",
    "for model_info, params in zip(models, param_choices):\n",
    "    name, model = model_info\n",
    "    grid = imlearn.CustomGridCV(clf=model(), params=params, fold_on='Song')\n",
    "    grid.fit_score(train_merged, y_feat='Composer', omit_mask=omit_mask, random_seed=42, display=False)\n",
    "    s = f\"{name}: best score: {grid.best_score_}\"\n",
    "    p = f\"{name}: best params: {grid.best_parameters_}\"\n",
    "    print(s)\n",
    "    print(p)\n",
    "    print()\n",
    "    grids3[name] = grid\n",
    "    grid_predictions[name],grid_actuals[name] = grid.best_predictions_actuals_"
   ]
  },
  {
   "cell_type": "code",
   "execution_count": 40,
   "metadata": {},
   "outputs": [
    {
     "data": {
      "image/png": "[encoded data removed]",
      "text/plain": [
       "<matplotlib.figure.Figure at 0x1c13187588>"
      ]
     },
     "metadata": {},
     "output_type": "display_data"
    }
   ],
   "source": [
    "imlearn.draw_learning_curve(train_merged, y_feat='Composer', split_on='Song', clf=grids3['knn'].best_model_, cv=5, omit_mask=omit_mask, random_seed=42, title=\"knn\")"
   ]
  },
  {
   "cell_type": "code",
   "execution_count": 41,
   "metadata": {},
   "outputs": [
    {
     "data": {
      "image/png": "[encoded data removed]",
      "text/plain": [
       "<matplotlib.figure.Figure at 0x1c1327e6a0>"
      ]
     },
     "metadata": {},
     "output_type": "display_data"
    }
   ],
   "source": [
    "imlearn.draw_learning_curve(train_merged, y_feat='Composer', split_on='Song', clf=grids3['svm'].best_model_, cv=5, omit_mask=omit_mask, random_seed=42, title=\"svm\")"
   ]
  },
  {
   "cell_type": "code",
   "execution_count": 42,
   "metadata": {},
   "outputs": [
    {
     "data": {
      "image/png": "[encoded data removed]",
      "text/plain": [
       "<matplotlib.figure.Figure at 0x1c1b64c630>"
      ]
     },
     "metadata": {},
     "output_type": "display_data"
    }
   ],
   "source": [
    "imlearn.draw_learning_curve(train, y_feat='Composer', split_on='Song', clf=grids3['logistic'].best_model_, cv=5, omit_mask=omit_mask, random_seed=42, title=\"logistic\")"
   ]
  },
  {
   "cell_type": "code",
   "execution_count": 43,
   "metadata": {},
   "outputs": [
    {
     "data": {
      "image/png": "[encoded data removed]",
      "text/plain": [
       "<matplotlib.figure.Figure at 0x1c1b534588>"
      ]
     },
     "metadata": {},
     "output_type": "display_data"
    }
   ],
   "source": [
    "imlearn.draw_learning_curve(train, y_feat='Composer', split_on='Song', clf=grids3['tree'].best_model_, cv=5, omit_mask=omit_mask, random_seed=42, title=\"tree\")"
   ]
  },
  {
   "cell_type": "code",
   "execution_count": 44,
   "metadata": {},
   "outputs": [
    {
     "data": {
      "image/png": "[encoded data removed]",
      "text/plain": [
       "<matplotlib.figure.Figure at 0x1c1d975f28>"
      ]
     },
     "metadata": {},
     "output_type": "display_data"
    }
   ],
   "source": [
    "imlearn.draw_learning_curve(train_merged, y_feat='Composer', split_on='Song', clf=grids3['forest'].best_model_, cv=5, omit_mask=omit_mask, random_seed=42, title=\"forest\")"
   ]
  },
  {
   "cell_type": "code",
   "execution_count": 45,
   "metadata": {},
   "outputs": [
    {
     "data": {
      "text/plain": [
       "RandomForestClassifier(bootstrap=True, class_weight=None, criterion='gini',\n",
       "            max_depth=10, max_features='auto', max_leaf_nodes=None,\n",
       "            min_impurity_decrease=0.0, min_impurity_split=None,\n",
       "            min_samples_leaf=5, min_samples_split=2,\n",
       "            min_weight_fraction_leaf=0.0, n_estimators=25, n_jobs=1,\n",
       "            oob_score=False, random_state=None, verbose=0,\n",
       "            warm_start=False)"
      ]
     },
     "execution_count": 45,
     "metadata": {},
     "output_type": "execute_result"
    }
   ],
   "source": [
    "grids3['forest'].best_model_"
   ]
  },
  {
   "cell_type": "code",
   "execution_count": 80,
   "metadata": {},
   "outputs": [],
   "source": [
    "final_pipe = Pipeline([\n",
    "               ('scaler',StandardScaler()),\n",
    "               ('forest',grids3['forest'].best_model_)  \n",
    "])"
   ]
  },
  {
   "cell_type": "code",
   "execution_count": 147,
   "metadata": {},
   "outputs": [],
   "source": [
    "X_train, y_train = imlearn.X_y_split(train_merged, 'Composer')"
   ]
  },
  {
   "cell_type": "code",
   "execution_count": 148,
   "metadata": {},
   "outputs": [
    {
     "data": {
      "text/plain": [
       "Pipeline(memory=None,\n",
       "     steps=[('scaler', StandardScaler(copy=True, with_mean=True, with_std=True)), ('forest', RandomForestClassifier(bootstrap=True, class_weight=None, criterion='gini',\n",
       "            max_depth=10, max_features='auto', max_leaf_nodes=None,\n",
       "            min_impurity_decrease=0.0, min_impurity_split=None,\n",
       "    ...n_jobs=1,\n",
       "            oob_score=False, random_state=None, verbose=0,\n",
       "            warm_start=False))])"
      ]
     },
     "execution_count": 148,
     "metadata": {},
     "output_type": "execute_result"
    }
   ],
   "source": [
    "final_pipe.fit(X_train.drop(['Collection','Song','Snippet'],axis=1), y_train)"
   ]
  },
  {
   "cell_type": "code",
   "execution_count": 149,
   "metadata": {},
   "outputs": [],
   "source": [
    "test_merged = pd.merge(audio_test, test.drop(['Composer','Collection'],axis=1), how='inner', on=['Song','Snippet'])"
   ]
  },
  {
   "cell_type": "code",
   "execution_count": 150,
   "metadata": {},
   "outputs": [
    {
     "data": {
      "text/plain": [
       "Index(['Composer', 'Collection', 'Song', 'Snippet', 'Tempo', 'SCentr_Range',\n",
       "       'SContr_mean0', 'SContr_mean1', 'SContr_mean2', 'SContr_mean3',\n",
       "       'SContr_mean4', 'SContr_mean5', 'SContr_mean6', 'SContr_var0',\n",
       "       'SContr_var1', 'SContr_var2', 'SContr_var3', 'SContr_var4',\n",
       "       'SContr_var5', 'SContr_var6', 'Consonance', 'Dissonance', 'Interval_1',\n",
       "       'Interval_2', 'Interval_3', 'Interval_4', 'Interval_5', 'Interval_6',\n",
       "       'Mode', 'Perfect', 'Poly_mean', 'Poly_var', 'Tonal_Clarity'],\n",
       "      dtype='object')"
      ]
     },
     "execution_count": 150,
     "metadata": {},
     "output_type": "execute_result"
    }
   ],
   "source": [
    "test_merged.columns"
   ]
  },
  {
   "cell_type": "code",
   "execution_count": 151,
   "metadata": {},
   "outputs": [
    {
     "data": {
      "text/plain": [
       "Index(['Composer', 'Collection', 'Song', 'Snippet', 'Tempo', 'SCentr_Range',\n",
       "       'SContr_mean0', 'SContr_mean1', 'SContr_mean2', 'SContr_mean3',\n",
       "       'SContr_mean4', 'SContr_mean5', 'SContr_mean6', 'SContr_var0',\n",
       "       'SContr_var1', 'SContr_var2', 'SContr_var3', 'SContr_var4',\n",
       "       'SContr_var5', 'SContr_var6', 'Consonance', 'Dissonance', 'Interval_1',\n",
       "       'Interval_2', 'Interval_3', 'Interval_4', 'Interval_5', 'Interval_6',\n",
       "       'Mode', 'Perfect', 'Poly_mean', 'Poly_var', 'Tonal_Clarity'],\n",
       "      dtype='object')"
      ]
     },
     "execution_count": 151,
     "metadata": {},
     "output_type": "execute_result"
    }
   ],
   "source": [
    "train_merged.columns"
   ]
  },
  {
   "cell_type": "code",
   "execution_count": 152,
   "metadata": {},
   "outputs": [],
   "source": [
    "X_test, y_test = imlearn.X_y_split(test_merged, 'Composer')"
   ]
  },
  {
   "cell_type": "code",
   "execution_count": 153,
   "metadata": {},
   "outputs": [],
   "source": [
    "test_predictions = final_pipe.predict(X_test.drop(['Collection','Song','Snippet'],axis=1))"
   ]
  },
  {
   "cell_type": "code",
   "execution_count": 154,
   "metadata": {},
   "outputs": [],
   "source": [
    "final_score = accuracy_score(y_test, test_predictions)"
   ]
  },
  {
   "cell_type": "code",
   "execution_count": 155,
   "metadata": {},
   "outputs": [
    {
     "data": {
      "text/plain": [
       "0.8532338308457711"
      ]
     },
     "execution_count": 155,
     "metadata": {},
     "output_type": "execute_result"
    }
   ],
   "source": [
    "final_score"
   ]
  },
  {
   "cell_type": "code",
   "execution_count": 156,
   "metadata": {},
   "outputs": [
    {
     "name": "stdout",
     "output_type": "stream",
     "text": [
      "             precision    recall  f1-score   support\n",
      "\n",
      "       Bach       0.80      0.92      0.86       196\n",
      "     Mozart       0.92      0.79      0.85       206\n",
      "\n",
      "avg / total       0.86      0.85      0.85       402\n",
      "\n"
     ]
    }
   ],
   "source": [
    "print(classification_report(y_test, test_predictions))"
   ]
  },
  {
   "cell_type": "code",
   "execution_count": null,
   "metadata": {},
   "outputs": [],
   "source": [
    "model_pipe = Pipeline(steps=[\n",
    "            ('scaler', StandardScaler()),\n",
    "            ('tree', DecisionTreeClassifier(max_depth=3,min_samples_leaf=10))\n",
    "            \n",
    "])"
   ]
  },
  {
   "cell_type": "code",
   "execution_count": null,
   "metadata": {},
   "outputs": [],
   "source": [
    "X = train.drop(omit_mask+['Composer'],axis=1)\n",
    "y = train['Composer']\n",
    "model_pipe.fit(X,y)"
   ]
  },
  {
   "cell_type": "code",
   "execution_count": null,
   "metadata": {},
   "outputs": [],
   "source": [
    "pickle.dump(model_pipe,open('/Users/ilanmoscovitz/github/sf18_ds11/projects/03-mcnulty/flask/model/model.pkl','wb'))"
   ]
  },
  {
   "cell_type": "code",
   "execution_count": null,
   "metadata": {},
   "outputs": [],
   "source": [
    "# Presentation material:"
   ]
  },
  {
   "cell_type": "code",
   "execution_count": 99,
   "metadata": {},
   "outputs": [
    {
     "data": {
      "text/plain": [
       "{'Collection': 'Art_of_Fugue',\n",
       " 'Composer': 'Bach',\n",
       " 'Snippet': (1, 5),\n",
       " 'Song': 'can2'}"
      ]
     },
     "execution_count": 99,
     "metadata": {},
     "output_type": "execute_result"
    }
   ],
   "source": [
    "example = mt.get_pickle(examples_path+'example_0.pkl')\n",
    "example.idee"
   ]
  },
  {
   "cell_type": "code",
   "execution_count": null,
   "metadata": {},
   "outputs": [],
   "source": [
    "mozart_count = len(df[df['Composer']=='Mozart'])\n",
    "mozart_count"
   ]
  },
  {
   "cell_type": "code",
   "execution_count": null,
   "metadata": {},
   "outputs": [],
   "source": [
    "bach_count = len(df[df['Composer']=='Bach'])\n",
    "bach_count"
   ]
  },
  {
   "cell_type": "code",
   "execution_count": null,
   "metadata": {},
   "outputs": [],
   "source": [
    "clarity_df = df[['Composer', 'Tonal_Clarity']].copy()\n",
    "clarity_df[clarity_df['Composer']=='Bach']['Tonal_Clarity']*=mozart_count/bach_count\n",
    "\n",
    "poly_df = df[['Composer', 'Poly_mean']].copy()\n",
    "poly_df[poly_df['Composer']=='Bach']['Poly_mean']*=mozart_count/bach_count"
   ]
  },
  {
   "cell_type": "code",
   "execution_count": null,
   "metadata": {},
   "outputs": [],
   "source": [
    "\n",
    "sns.set(style=\"whitegrid\")\n",
    "plt.figure(figsize=(10,10))\n",
    "ax = sns.violinplot(x=clarity_df['Composer'],y=clarity_df['Tonal_Clarity'], hue=\"Composer\",\n",
    "                    data=clarity_df, palette=\"muted\", split=True)"
   ]
  },
  {
   "cell_type": "code",
   "execution_count": null,
   "metadata": {},
   "outputs": [],
   "source": [
    "\n",
    "sns.set(style=\"whitegrid\")\n",
    "plt.figure(figsize=(10,10))\n",
    "ax = sns.violinplot(x=poly_df['Composer'],y=poly_df['Poly_mean'], hue=\"Composer\",\n",
    "                    data=poly_df, palette=\"muted\", split=True)"
   ]
  },
  {
   "cell_type": "code",
   "execution_count": null,
   "metadata": {},
   "outputs": [],
   "source": [
    "test[test['Collection']=='Art_of_Fugue'][['Song','Collection']]"
   ]
  },
  {
   "cell_type": "code",
   "execution_count": null,
   "metadata": {},
   "outputs": [],
   "source": [
    "# For demonstration, locate the example files for each clip\n",
    "\n",
    "example_filenames = os.listdir(examples_path)\n",
    "example_filenames = [example for example in example_filenames if 'example' in example]\n",
    "examples_index = {}\n",
    "for example in example_filenames:\n",
    "    sample = mt.get_pickle(examples_path+example)\n",
    "    examples_index[example] = sample.idee\n",
    "examples_index"
   ]
  },
  {
   "cell_type": "code",
   "execution_count": null,
   "metadata": {},
   "outputs": [],
   "source": [
    "# Which features correlate?\n",
    "train_4_corr = train.copy()\n",
    "train_4_corr['Composer'] = train_4_corr[['Composer']].applymap(lambda x: 0 if x=='Bach' else 1)\n",
    "\n",
    "corr = train_4_corr.corr()\n",
    "corr.sort_values('Composer')"
   ]
  },
  {
   "cell_type": "code",
   "execution_count": null,
   "metadata": {
    "scrolled": false
   },
   "outputs": [],
   "source": [
    "# Which features correlate?\n",
    "train_4_corr_merged = train_merged.copy()\n",
    "train_4_corr_merged['Composer'] = train_4_corr_merged[['Composer']].applymap(lambda x: 0 if x=='Bach' else 1)\n",
    "\n",
    "corr_merged = train_4_corr_merged.corr()\n",
    "corr_merged.sort_values('Composer')"
   ]
  },
  {
   "cell_type": "code",
   "execution_count": null,
   "metadata": {},
   "outputs": [],
   "source": [
    "# Best are poly_mean and tonal_clarity (which I guessed Mode only has two discrete values, so "
   ]
  },
  {
   "cell_type": "code",
   "execution_count": null,
   "metadata": {},
   "outputs": [],
   "source": [
    "inver2_1 = mt.get_pickle(examples_path+'example_62.pkl')\n",
    "inver2_1.idee"
   ]
  },
  {
   "cell_type": "code",
   "execution_count": null,
   "metadata": {},
   "outputs": [],
   "source": [
    "inver2_2 = mt.get_pickle(examples_path+'example_63.pkl')\n",
    "inver2_2.idee"
   ]
  },
  {
   "cell_type": "code",
   "execution_count": null,
   "metadata": {},
   "outputs": [],
   "source": [
    "mt.display_chroma(inver2_1.chords);"
   ]
  },
  {
   "cell_type": "code",
   "execution_count": null,
   "metadata": {},
   "outputs": [],
   "source": [
    "df[df['Song']=='mz_279']"
   ]
  },
  {
   "cell_type": "code",
   "execution_count": null,
   "metadata": {},
   "outputs": [],
   "source": [
    "def find_song(songname):\n",
    "    result = []\n",
    "    example_filenames = os.listdir(examples_path)\n",
    "    example_filenames = [example for example in example_filenames if 'example' in example]\n",
    "    examples_index = {}\n",
    "    for example in example_filenames:\n",
    "        sample = mt.get_pickle(examples_path+example)\n",
    "        song = sample.idee['Song']\n",
    "        if songname == song:\n",
    "            result.append(example)\n",
    "    return result"
   ]
  },
  {
   "cell_type": "code",
   "execution_count": null,
   "metadata": {},
   "outputs": [],
   "source": [
    "find_song('mz_279')"
   ]
  },
  {
   "cell_type": "code",
   "execution_count": null,
   "metadata": {},
   "outputs": [],
   "source": [
    "inver2.display_chords(exaggerate)"
   ]
  }
 ],
 "metadata": {
  "kernelspec": {
   "display_name": "Python 3",
   "language": "python",
   "name": "python3"
  },
  "language_info": {
   "codemirror_mode": {
    "name": "ipython",
    "version": 3
   },
   "file_extension": ".py",
   "mimetype": "text/x-python",
   "name": "python",
   "nbconvert_exporter": "python",
   "pygments_lexer": "ipython3",
   "version": "3.6.4"
  }
 },
 "nbformat": 4,
 "nbformat_minor": 2
}
